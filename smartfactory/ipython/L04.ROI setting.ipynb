{
 "cells": [
  {
   "cell_type": "code",
   "execution_count": 23,
   "id": "87c886dc",
   "metadata": {},
   "outputs": [],
   "source": [
    "# opencv 라이브러리\n",
    "import cv2\n",
    "\n",
    "# 카메라 열기\n",
    "\n",
    "cap = cv2.VideoCapture(1)"
   ]
  },
  {
   "cell_type": "code",
   "execution_count": 24,
   "id": "7636d9e2",
   "metadata": {},
   "outputs": [
    {
     "name": "stdout",
     "output_type": "stream",
     "text": [
      "default resolution width 640.0 height 480.0\n"
     ]
    }
   ],
   "source": [
    "# 현재 카메라 해상도 얻기\n",
    "width = cap.get(3)\n",
    "height = cap.get(4)\n",
    "print('default resolution width {} height {}'.format(width, height))"
   ]
  },
  {
   "cell_type": "code",
   "execution_count": 25,
   "id": "87dfa492",
   "metadata": {},
   "outputs": [],
   "source": [
    "# ROI setting\n",
    "ROI = [190, 120, 350, 370] #[xmin, ymin, xmax, ymax]"
   ]
  },
  {
   "cell_type": "code",
   "execution_count": 26,
   "id": "e1ec7ca0",
   "metadata": {},
   "outputs": [],
   "source": [
    "#Draw rectangle on Camera view\n",
    "start_x = int(width / 2)\n",
    "start_width = 30\n",
    "start_y = 0\n",
    "end_x = int(width / 2)\n",
    "end_width = 160\n",
    "end_y = height\n",
    "c_r = (0, 0, 255)\n",
    "thickness = 4\n",
    "x = ROI[0]\n",
    "y = ROI[1]\n",
    "w = ROI[2]\n",
    "h = ROI[3]\n",
    "if cap.isOpened():\n",
    "    _, frame = cap.read()\n",
    "else:\n",
    "    _ = False\n",
    "\n",
    "while _:\n",
    "\n",
    "    _, frame = cap.read()\n",
    "\n",
    "    key = cv2.waitKey(20)\n",
    "    if key == 27:\n",
    "        break\n",
    "    else:\n",
    "        font = cv2.FONT_HERSHEY_SIMPLEX\n",
    "        frame = cv2.putText(frame, 'Your ROI', (x, y - 10), font, 1.3, (0, 255, 0), 2, cv2.LINE_AA)\n",
    "        cv2.rectangle(frame, (x,y),(w,h), c_r, thickness)\n",
    "    cv2.imshow('', frame)\n",
    "\n",
    "\n",
    "cap.release()\n",
    "cv2.destroyAllWindows()"
   ]
  },
  {
   "cell_type": "code",
   "execution_count": null,
   "id": "fe7848c7",
   "metadata": {},
   "outputs": [],
   "source": []
  }
 ],
 "metadata": {
  "kernelspec": {
   "display_name": "Python 3 (ipykernel)",
   "language": "python",
   "name": "python3"
  },
  "language_info": {
   "codemirror_mode": {
    "name": "ipython",
    "version": 3
   },
   "file_extension": ".py",
   "mimetype": "text/x-python",
   "name": "python",
   "nbconvert_exporter": "python",
   "pygments_lexer": "ipython3",
   "version": "3.9.13"
  }
 },
 "nbformat": 4,
 "nbformat_minor": 5
}
