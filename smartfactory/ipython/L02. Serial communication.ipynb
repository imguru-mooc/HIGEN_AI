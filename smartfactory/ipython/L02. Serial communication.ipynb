{
 "cells": [
  {
   "cell_type": "markdown",
   "id": "6a79b3bc",
   "metadata": {},
   "source": [
    "# Lecture 00. Serial 통신 이해 하기\n",
    "\n",
    "### Contents:\n",
    "   \n",
    "   1. Lecture 00 개요\n",
    "   \n",
    "   2. Communication Protocol 이해하기\n",
    "   \n",
    "   3. Pyserial 라이브러리를 사용하여 Board Control 하기\n",
    "   \n",
    "   4. PyQT5를 사용하여 UI제작하기\n",
    "   \n",
    "   ---\n",
    "   "
   ]
  },
  {
   "cell_type": "markdown",
   "id": "b8745692",
   "metadata": {},
   "source": [
    "---\n",
    "## **1. Lecture 00 개요**\n",
    "\n",
    "\n",
    "이번 강의에서는 Serial 통신(Uart)를 이해하고 하드웨어와 PC간의 통신을 이해할 수 있다.  <p>\n",
    "\n",
    "이번 강의에서는:<p>\n",
    "- 직렬통신과 병렬통신을 이해하고 Communication Protocol을 이해할 수 있다.\n",
    "- Pyserial Library를 통해 파이썬코드를 통한 시리얼 통신을 할 수 있다."
   ]
  },
  {
   "cell_type": "code",
   "execution_count": 3,
   "id": "5f090e45",
   "metadata": {},
   "outputs": [
    {
     "data": {
      "image/png": "[encoded data removed]",
      "text/plain": [
       "<IPython.core.display.Image object>"
      ]
     },
     "execution_count": 3,
     "metadata": {},
     "output_type": "execute_result"
    }
   ],
   "source": [
    "from IPython.display import Image\n",
    "Image(\"RES/parVSser.png\")"
   ]
  },
  {
   "cell_type": "markdown",
   "id": "9321f348",
   "metadata": {},
   "source": [
    "## UART\n",
    "UART는 비동기적인 직렬통신 방법입니다.\n",
    "\n",
    "- UART(범용 비동기화 송수신기: Universal asynchronous receiver/transmitter)는 병렬 데이터의 형태를 직렬 방식으로 전환하여 데이터를 전송하는 컴퓨터 하드웨어의 일종.\n",
    "\n",
    "- 비동기 통신이므로 동기 신호가 전달되지 않는다. 따라서 수신 쪽에서 동기신호를 찾아내어 데이터의 시작과 끝을 시간적으로 알아 처리할 수 있도록 약속되어 있습니다."
   ]
  },
  {
   "cell_type": "markdown",
   "id": "0b0e61b2",
   "metadata": {},
   "source": [
    "## **2. Communication Protocol 이해하기**\n",
    "xlsx 파일 참조"
   ]
  },
  {
   "cell_type": "markdown",
   "id": "bb1a0681",
   "metadata": {},
   "source": [
    "---\n",
    "## **3. Pyserial 라이브러리를 사용하여 Board Control 하기**\n",
    "\n",
    "\n",
    "- Pyserial 라이브러리를 설치\n",
    "- Board로 데이터 보내기"
   ]
  },
  {
   "cell_type": "code",
   "execution_count": 10,
   "id": "1f87b4e8",
   "metadata": {},
   "outputs": [],
   "source": [
    "import serial"
   ]
  },
  {
   "cell_type": "markdown",
   "id": "e7999044",
   "metadata": {},
   "source": [
    "COM 포트 확인\n",
    "- 시작 --> 장치관리자 --> 포트 를 확인하여 COMx 포트번호 확인"
   ]
  },
  {
   "cell_type": "code",
   "execution_count": 16,
   "id": "c880b39c",
   "metadata": {},
   "outputs": [],
   "source": [
    "PORT = 'COM3'  # PC에 연결된 포트\n",
    "baud = 19200  # 보드레이트\n",
    "ser = serial.Serial(PORT, baud, timeout=1)\n",
    "startBit = 0xAA\n"
   ]
  },
  {
   "cell_type": "markdown",
   "id": "00c759d6",
   "metadata": {},
   "source": [
    "### 컨베이어 Start Code 작성하기\n",
    "- data =[0xAA,0x05, 0x01, 0x01, 0xF8]"
   ]
  },
  {
   "cell_type": "code",
   "execution_count": 18,
   "id": "3bfcfa11",
   "metadata": {},
   "outputs": [
    {
     "name": "stdout",
     "output_type": "stream",
     "text": [
      "bytearray(b'\\xaa\\x05\\x01\\x01\\xf8')\n"
     ]
    }
   ],
   "source": [
    "\n",
    "# main & sub command 작성하기\n",
    "main_command = 0x01\n",
    "sub_command = 0x01\n",
    "# 기기로 보낼 패킷 구성\n",
    "packet = bytearray()\n",
    "packet.append(startBit)\n",
    "data = [main_command, sub_command]\n",
    "length = len(data) + 0x03\n",
    "packet.append(length)\n",
    "for d in data:\n",
    "    packet.append(d)\n",
    "checksum =~(length + sum(data)) & 0xFF\n",
    "packet.append(checksum)\n",
    "print(packet)"
   ]
  },
  {
   "cell_type": "code",
   "execution_count": 19,
   "id": "e8f32d4b",
   "metadata": {},
   "outputs": [
    {
     "data": {
      "text/plain": [
       "5"
      ]
     },
     "execution_count": 19,
     "metadata": {},
     "output_type": "execute_result"
    }
   ],
   "source": [
    "ser.write(packet)"
   ]
  },
  {
   "cell_type": "markdown",
   "id": "1b911d3a",
   "metadata": {},
   "source": [
    "### 컨베이어 Stop Code 작성하기\n",
    "- data =[0xAA,0x05, 0x01, 0x00, 0xF9]"
   ]
  },
  {
   "cell_type": "code",
   "execution_count": 22,
   "id": "c9ea0034",
   "metadata": {},
   "outputs": [
    {
     "name": "stdout",
     "output_type": "stream",
     "text": [
      "bytearray(b'\\xaa\\x05\\x01\\x00\\xf9')\n"
     ]
    },
    {
     "data": {
      "text/plain": [
       "5"
      ]
     },
     "execution_count": 22,
     "metadata": {},
     "output_type": "execute_result"
    }
   ],
   "source": [
    "main_command = 0x01\n",
    "sub_command = 0x00\n",
    "packet = bytearray()\n",
    "packet.append(startBit)\n",
    "data = [main_command, sub_command]\n",
    "length = len(data) + 0x03\n",
    "packet.append(length)\n",
    "for d in data:\n",
    "    packet.append(d)\n",
    "checksum = ~(length + sum(data)) & 0xFF\n",
    "packet.append(checksum)\n",
    "print(packet)"
   ]
  },
  {
   "cell_type": "code",
   "execution_count": 23,
   "id": "99147ed1",
   "metadata": {},
   "outputs": [
    {
     "data": {
      "text/plain": [
       "5"
      ]
     },
     "execution_count": 23,
     "metadata": {},
     "output_type": "execute_result"
    }
   ],
   "source": [
    "ser.write(packet)"
   ]
  },
  {
   "cell_type": "markdown",
   "id": "0e4eff6c",
   "metadata": {},
   "source": [
    "### 분류기 A, B, C 작성하기"
   ]
  },
  {
   "cell_type": "code",
   "execution_count": null,
   "id": "e2162504",
   "metadata": {},
   "outputs": [],
   "source": []
  },
  {
   "cell_type": "markdown",
   "id": "c044e3b4",
   "metadata": {},
   "source": [
    "### 벨트 Speed up, down 작성하기"
   ]
  },
  {
   "cell_type": "code",
   "execution_count": 26,
   "id": "4570ea8c",
   "metadata": {},
   "outputs": [
    {
     "name": "stdout",
     "output_type": "stream",
     "text": [
      "bytearray(b'\\xaa\\x05\\x04\\x01\\xf5')\n"
     ]
    },
    {
     "data": {
      "text/plain": [
       "5"
      ]
     },
     "execution_count": 26,
     "metadata": {},
     "output_type": "execute_result"
    }
   ],
   "source": [
    "# Speed UP\n",
    "main_command = 0x04\n",
    "sub_command = 0x01\n",
    "packet = bytearray()\n",
    "packet.append(startBit)\n",
    "data = [main_command, sub_command]\n",
    "length = len(data) + 0x03\n",
    "packet.append(length)\n",
    "for d in data:\n",
    "    packet.append(d)\n",
    "checksum = ~(length + sum(data)) & 0xFF\n",
    "packet.append(checksum)\n",
    "print(packet)\n",
    "ser.write(packet)"
   ]
  },
  {
   "cell_type": "code",
   "execution_count": 27,
   "id": "4726c730",
   "metadata": {},
   "outputs": [
    {
     "name": "stdout",
     "output_type": "stream",
     "text": [
      "bytearray(b'\\xaa\\x05\\x04\\x02\\xf4')\n"
     ]
    },
    {
     "data": {
      "text/plain": [
       "5"
      ]
     },
     "execution_count": 27,
     "metadata": {},
     "output_type": "execute_result"
    }
   ],
   "source": [
    "main_command = 0x04\n",
    "sub_command = 0x02\n",
    "packet = bytearray()\n",
    "packet.append(startBit)\n",
    "data = [main_command, sub_command]\n",
    "length = len(data) + 0x03\n",
    "packet.append(length)\n",
    "for d in data:\n",
    "    packet.append(d)\n",
    "checksum = ~(length + sum(data)) & 0xFF\n",
    "packet.append(checksum)\n",
    "print(packet)\n",
    "ser.write(packet)"
   ]
  },
  {
   "cell_type": "markdown",
   "id": "d397e271",
   "metadata": {},
   "source": [
    "## **5. 실행파일 만들기**\n",
    "sf_control.py , ui 파일을 이용하여 만들기"
   ]
  },
  {
   "cell_type": "code",
   "execution_count": null,
   "id": "8cab3389",
   "metadata": {},
   "outputs": [],
   "source": []
  }
 ],
 "metadata": {
  "kernelspec": {
   "display_name": "Python 3 (ipykernel)",
   "language": "python",
   "name": "python3"
  },
  "language_info": {
   "codemirror_mode": {
    "name": "ipython",
    "version": 3
   },
   "file_extension": ".py",
   "mimetype": "text/x-python",
   "name": "python",
   "nbconvert_exporter": "python",
   "pygments_lexer": "ipython3",
   "version": "3.9.13"
  }
 },
 "nbformat": 4,
 "nbformat_minor": 5
}
