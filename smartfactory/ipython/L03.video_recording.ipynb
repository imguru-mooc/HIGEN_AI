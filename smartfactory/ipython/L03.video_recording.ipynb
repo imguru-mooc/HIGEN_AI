{
 "cells": [
  {
   "cell_type": "markdown",
   "id": "b531fd52",
   "metadata": {},
   "source": [
    "# Lecture 01. USB Camera 를 활용하여 데이터 수집하기\n",
    "\n",
    "### Contents:\n",
    "   \n",
    "   1. Lecture 01 개요\n",
    "   \n",
    "   2. USB camera 스펙\n",
    "   \n",
    "   3. USB camera 연결 및 동작 확인\n",
    "   \n",
    "   4. Smart Factory의 컨베이어벨트를 비디오로 파일로 저장하기\n",
    "   \n",
    "   5. 비디오 파일이 잘 생성됐는지 확인하기\n",
    "   \n",
    "   ---\n",
    "   "
   ]
  },
  {
   "cell_type": "markdown",
   "id": "3dcac7a7",
   "metadata": {},
   "source": [
    "## 0. 사전 작업\n",
    "Jupyter Notebook 에서 필요한 함수를 define 하자."
   ]
  },
  {
   "cell_type": "code",
   "execution_count": 17,
   "id": "423be100",
   "metadata": {},
   "outputs": [],
   "source": [
    "# Import the libraries needed to use Jupyter Notebook\n",
    "import ipywidgets as widgets\n",
    "import IPython.display as display\n",
    "from IPython.display import clear_output\n",
    "\n",
    "import cv2\n",
    "\n",
    "widget_dict = {}\n",
    "\n",
    "def init_display():\n",
    "    clear_output()\n",
    "    widget_dict.clear()\n",
    "\n",
    "# Can be replaced with cv2.imshow() function when used in terminal\n",
    "def imshow(title, img):\n",
    "    if title not in widget_dict:\n",
    "        print(title)\n",
    "\n",
    "        # Set the widget to display the screen in the Jupyter Notebook environment\n",
    "        widget_dict[title] = widgets.Image(\n",
    "            layout = widgets.Layout(border=\"solid\")\n",
    "        )\n",
    "        display.display(widget_dict[title])\n",
    "  \n",
    "    jpg_stream = cv2.imencode(\".jpg\", img)[1].tostring()\n",
    "    widget_dict[title].value = jpg_stream\n",
    "    \n",
    "def show_video(title, file):\n",
    "    init_display()\n",
    "    cap = cv2.VideoCapture(file)\n",
    "    while True:\n",
    "        res, img = cap.read()\n",
    "        if res is False:\n",
    "            break\n",
    "        imshow(title, img)\n",
    "    cap.release()"
   ]
  },
  {
   "cell_type": "markdown",
   "id": "f71e0859",
   "metadata": {},
   "source": [
    "---\n",
    "## **1. Lecture 01 개요**\n",
    "\n",
    "\n",
    "이번 강의에서는 USB Camera 를 활용하여 Camera Streaming Input 을 비디오 파일로 저장한다. 이 파일은 다음 강의에서 지속적으로 사용된다.  <p>\n",
    "\n",
    "이번 강의에서는:<p>\n",
    "- USB camera input 을 OpenCV 를 활용하여 비디오 파일로 저장하는 법을 배운다."
   ]
  },
  {
   "cell_type": "code",
   "execution_count": 3,
   "id": "b7fa40c3",
   "metadata": {},
   "outputs": [],
   "source": [
    "import cv2\n",
    "cap = cv2.VideoCapture(0)"
   ]
  },
  {
   "cell_type": "markdown",
   "id": "f65bcb27",
   "metadata": {},
   "source": [
    "---\n",
    "## **2. USB camera 스펙 (D455)**\n",
    "\n",
    " - RGB Frame Rate: 640x480@30fps, "
   ]
  },
  {
   "cell_type": "code",
   "execution_count": 4,
   "id": "5656e061",
   "metadata": {},
   "outputs": [],
   "source": [
    "FPS = cap.get(cv2.CAP_PROP_FPS)"
   ]
  },
  {
   "cell_type": "code",
   "execution_count": 5,
   "id": "f8392f0b",
   "metadata": {},
   "outputs": [],
   "source": [
    "W = int(cap.get(3))\n",
    "H = int(cap.get(4))"
   ]
  },
  {
   "cell_type": "code",
   "execution_count": 6,
   "id": "ab68e783",
   "metadata": {
    "scrolled": true
   },
   "outputs": [
    {
     "name": "stdout",
     "output_type": "stream",
     "text": [
      "FPS: 30, width: 640, height: 480\n"
     ]
    }
   ],
   "source": [
    "print('FPS: %d, width: %d, height: %d' % (FPS,W, H))"
   ]
  },
  {
   "cell_type": "markdown",
   "id": "84184600",
   "metadata": {},
   "source": [
    "---\n",
    "## **3. USB camera 연결 및 동작 확인**\n",
    "\n",
    "### 3.1. Camera support for Windows\n",
    "\n",
    "<br>\n",
    "Linux의 경우 V4L2 (Video For Linux 2) 는 Linux 에서 camera 를 사용 할 수 있게 해주는 interface 이다. 이 interface 를 통해 camera device 를 제어하고 application 과 통신 할 수 있지만 Windows의 경우 카메라 Interface를 사용할 수 있는 Library를 찾기 힘들기 때문에 보통 openCV의 VideosCapture 함수를 통해 숫자로서 장치를 확인 할 수 있다.<br>"
   ]
  },
  {
   "cell_type": "code",
   "execution_count": null,
   "id": "9aed81f3",
   "metadata": {},
   "outputs": [],
   "source": [
    "while True:\n",
    "    try:\n",
    "        show_video('', 1)#trying 0 or 1 device\n",
    "    except KeyboardInterrupt:  # input the 'ii' key\n",
    "        break"
   ]
  },
  {
   "cell_type": "markdown",
   "id": "81d70a64",
   "metadata": {},
   "source": [
    "---\n",
    "## **4. Smart Factory의 컨베이어벨트를 비디오로 파일로 저장하기**\n",
    "\n",
    "아래와 같은 형태의 비디오 파일을 각자의 데모 킷에서 녹화 & 저장 할 수 있도록 하자. <p>\n",
    "비디오 재생을 멈추려면 video 화면에서 마우스를 클릭 한 이후 **ii** 라고 키보드 입력을 하면 강제종료 된다. "
   ]
  },
  {
   "cell_type": "code",
   "execution_count": 10,
   "id": "43a772e9",
   "metadata": {},
   "outputs": [],
   "source": [
    "show_video('SF', 'RES/smart_factory_sample.mp4')"
   ]
  },
  {
   "cell_type": "markdown",
   "id": "b72bed3c",
   "metadata": {},
   "source": [
    "여러분들이 저장할 비디오의 총 녹화 길이와 저장될 파일 이름을 아래와 같이 선언한다."
   ]
  },
  {
   "cell_type": "code",
   "execution_count": 15,
   "id": "259eb0d2",
   "metadata": {},
   "outputs": [],
   "source": [
    "##################################################\n",
    "# Video recording time (seconds)\n",
    "REC_TIME_SEC = 120\n",
    "# Video file name\n",
    "REC_FILE_NAME = 'factory.mp4'\n",
    "##################################################"
   ]
  },
  {
   "cell_type": "markdown",
   "id": "5fcd441b",
   "metadata": {},
   "source": [
    "아래 코드는 OpenCV를 사용해 camera 로 부터 frame data 를 받고 이를 비디오 파일로 저장하는 기능을 한다."
   ]
  },
  {
   "cell_type": "code",
   "execution_count": 8,
   "id": "b413a843",
   "metadata": {},
   "outputs": [],
   "source": [
    "# OpenCV 를 사용하여 camera steam 을 연다.\n",
    "cap = cv2.VideoCapture(1)\n",
    "W = int(cap.get(3))\n",
    "H = int(cap.get(4))\n",
    "FPS = cap.get(5)\n",
    "FRAME_CNT = 0\n",
    "\n",
    "# 저장할 비디오 파일을 선언한다.\n",
    "video_out = cv2.VideoWriter('SAVE/' + REC_FILE_NAME, cv2.VideoWriter_fourcc(*'DIVX'), FPS, (W, H))"
   ]
  },
  {
   "cell_type": "code",
   "execution_count": 9,
   "id": "4483e2cf",
   "metadata": {},
   "outputs": [
    {
     "data": {
      "application/vnd.jupyter.widget-view+json": {
       "model_id": "85fa38bdcfe64c9fb0b2e0d54c0e3da4",
       "version_major": 2,
       "version_minor": 0
      },
      "text/plain": [
       "Image(value=b'', layout=\"Layout(border='solid')\")"
      ]
     },
     "metadata": {},
     "output_type": "display_data"
    },
    {
     "name": "stdout",
     "output_type": "stream",
     "text": [
      "Recording.. 10.00%\n",
      "Recording.. 20.00%\n",
      "Recording.. 30.00%\n",
      "Recording.. 40.00%\n",
      "Recording.. 50.00%\n",
      "Recording.. 60.00%\n",
      "Recording.. 70.00%\n",
      "Recording.. 80.00%\n",
      "Recording.. 90.00%\n",
      "Stop recording for 10 seconds\n"
     ]
    }
   ],
   "source": [
    "# Set up widgets for a Jupyter Notebook environment\n",
    "widget = widgets.Image(\n",
    "    layout = widgets.Layout(border=\"solid\")\n",
    ")\n",
    "display.display(widget)\n",
    "\n",
    "while (cap.isOpened()):\n",
    "    try:\n",
    "        # Capture frame by frame\n",
    "        ret, frame = cap.read()\n",
    "\n",
    "        # Save\n",
    "        video_out.write(frame)\n",
    "        \n",
    "        # Print\n",
    "        jpg_stream = cv2.imencode(\".jpg\", frame)[1].tobytes()\n",
    "        widget.value = jpg_stream\n",
    "\n",
    "        FRAME_CNT = FRAME_CNT + 1\n",
    "        if FRAME_CNT >= FPS * REC_TIME_SEC:\n",
    "            print('Stop recording for {} seconds'.format(REC_TIME_SEC))\n",
    "            break\n",
    "\n",
    "        if (FRAME_CNT % FPS) == 0:\n",
    "            print('Recording.. {:.2f}%'.format((100 * FRAME_CNT) / (REC_TIME_SEC * FPS)))\n",
    "\n",
    "    except KeyboardInterrupt:  # input the 'ii' key\n",
    "        break\n",
    "\n",
    "video_out.release()\n",
    "cap.release()\n",
    "cv2.destroyAllWindows()"
   ]
  },
  {
   "cell_type": "markdown",
   "id": "209415e3",
   "metadata": {},
   "source": [
    "## **5. 비디오 파일이 잘 생성됐는지 확인하기**"
   ]
  },
  {
   "cell_type": "code",
   "execution_count": 29,
   "id": "af6752cb",
   "metadata": {},
   "outputs": [
    {
     "name": "stdout",
     "output_type": "stream",
     "text": [
      "\n"
     ]
    },
    {
     "data": {
      "application/vnd.jupyter.widget-view+json": {
       "model_id": "b385bf3dca4749f2a5d226fa2482bc5f",
       "version_major": 2,
       "version_minor": 0
      },
      "text/plain": [
       "Image(value=b'', layout=\"Layout(border='solid')\")"
      ]
     },
     "metadata": {},
     "output_type": "display_data"
    },
    {
     "name": "stderr",
     "output_type": "stream",
     "text": [
      "C:\\Users\\Heedong\\AppData\\Local\\Temp\\ipykernel_27788\\1550592973.py:25: DeprecationWarning: tostring() is deprecated. Use tobytes() instead.\n",
      "  jpg_stream = cv2.imencode(\".jpg\", img)[1].tostring()\n"
     ]
    }
   ],
   "source": [
    "# Replay the saved video file\n",
    "show_video('','SAVE/' + REC_FILE_NAME)"
   ]
  },
  {
   "cell_type": "code",
   "execution_count": null,
   "id": "1b7c56b5",
   "metadata": {},
   "outputs": [],
   "source": []
  }
 ],
 "metadata": {
  "kernelspec": {
   "display_name": "Python 3 (ipykernel)",
   "language": "python",
   "name": "python3"
  },
  "language_info": {
   "codemirror_mode": {
    "name": "ipython",
    "version": 3
   },
   "file_extension": ".py",
   "mimetype": "text/x-python",
   "name": "python",
   "nbconvert_exporter": "python",
   "pygments_lexer": "ipython3",
   "version": "3.9.13"
  }
 },
 "nbformat": 4,
 "nbformat_minor": 5
}
